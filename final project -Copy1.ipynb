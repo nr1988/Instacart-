{
 "cells": [
  {
   "cell_type": "code",
   "execution_count": 15,
   "metadata": {},
   "outputs": [
    {
     "name": "stderr",
     "output_type": "stream",
     "text": [
      "UsageError: unrecognized arguments: # we want the plot to be appear as in line with the code\n"
     ]
    }
   ],
   "source": [
    "import pandas as pd\n",
    "import numpy as np \n",
    "import matplotlib.pyplot as plt\n",
    "import seaborn as sns\n",
    "\n",
    "%matplotlib inline   # we want the plot to be appear as in line with the code "
   ]
  },
  {
   "cell_type": "code",
   "execution_count": 16,
   "metadata": {},
   "outputs": [],
   "source": [
    "products=pd.read_csv(\"products.csv\")"
   ]
  },
  {
   "cell_type": "code",
   "execution_count": 17,
   "metadata": {},
   "outputs": [
    {
     "data": {
      "text/plain": [
       "(49688, 4)"
      ]
     },
     "execution_count": 17,
     "metadata": {},
     "output_type": "execute_result"
    }
   ],
   "source": [
    "products.shape"
   ]
  },
  {
   "cell_type": "code",
   "execution_count": 18,
   "metadata": {},
   "outputs": [
    {
     "data": {
      "text/html": [
       "<div>\n",
       "<style scoped>\n",
       "    .dataframe tbody tr th:only-of-type {\n",
       "        vertical-align: middle;\n",
       "    }\n",
       "\n",
       "    .dataframe tbody tr th {\n",
       "        vertical-align: top;\n",
       "    }\n",
       "\n",
       "    .dataframe thead th {\n",
       "        text-align: right;\n",
       "    }\n",
       "</style>\n",
       "<table border=\"1\" class=\"dataframe\">\n",
       "  <thead>\n",
       "    <tr style=\"text-align: right;\">\n",
       "      <th></th>\n",
       "      <th>product_id</th>\n",
       "      <th>product_name</th>\n",
       "      <th>aisle_id</th>\n",
       "      <th>department_id</th>\n",
       "    </tr>\n",
       "  </thead>\n",
       "  <tbody>\n",
       "    <tr>\n",
       "      <td>0</td>\n",
       "      <td>1</td>\n",
       "      <td>Chocolate Sandwich Cookies</td>\n",
       "      <td>61</td>\n",
       "      <td>19</td>\n",
       "    </tr>\n",
       "    <tr>\n",
       "      <td>1</td>\n",
       "      <td>2</td>\n",
       "      <td>All-Seasons Salt</td>\n",
       "      <td>104</td>\n",
       "      <td>13</td>\n",
       "    </tr>\n",
       "    <tr>\n",
       "      <td>2</td>\n",
       "      <td>3</td>\n",
       "      <td>Robust Golden Unsweetened Oolong Tea</td>\n",
       "      <td>94</td>\n",
       "      <td>7</td>\n",
       "    </tr>\n",
       "    <tr>\n",
       "      <td>3</td>\n",
       "      <td>4</td>\n",
       "      <td>Smart Ones Classic Favorites Mini Rigatoni Wit...</td>\n",
       "      <td>38</td>\n",
       "      <td>1</td>\n",
       "    </tr>\n",
       "    <tr>\n",
       "      <td>4</td>\n",
       "      <td>5</td>\n",
       "      <td>Green Chile Anytime Sauce</td>\n",
       "      <td>5</td>\n",
       "      <td>13</td>\n",
       "    </tr>\n",
       "  </tbody>\n",
       "</table>\n",
       "</div>"
      ],
      "text/plain": [
       "   product_id                                       product_name  aisle_id  \\\n",
       "0           1                         Chocolate Sandwich Cookies        61   \n",
       "1           2                                   All-Seasons Salt       104   \n",
       "2           3               Robust Golden Unsweetened Oolong Tea        94   \n",
       "3           4  Smart Ones Classic Favorites Mini Rigatoni Wit...        38   \n",
       "4           5                          Green Chile Anytime Sauce         5   \n",
       "\n",
       "   department_id  \n",
       "0             19  \n",
       "1             13  \n",
       "2              7  \n",
       "3              1  \n",
       "4             13  "
      ]
     },
     "execution_count": 18,
     "metadata": {},
     "output_type": "execute_result"
    }
   ],
   "source": [
    "products.head(5)"
   ]
  },
  {
   "cell_type": "code",
   "execution_count": 19,
   "metadata": {},
   "outputs": [],
   "source": [
    "orders=pd.read_csv(\"orders.csv\")"
   ]
  },
  {
   "cell_type": "code",
   "execution_count": 7,
   "metadata": {},
   "outputs": [
    {
     "data": {
      "text/plain": [
       "(3421083, 7)"
      ]
     },
     "execution_count": 7,
     "metadata": {},
     "output_type": "execute_result"
    }
   ],
   "source": [
    "orders.shape"
   ]
  },
  {
   "cell_type": "code",
   "execution_count": 20,
   "metadata": {},
   "outputs": [
    {
     "data": {
      "text/html": [
       "<div>\n",
       "<style scoped>\n",
       "    .dataframe tbody tr th:only-of-type {\n",
       "        vertical-align: middle;\n",
       "    }\n",
       "\n",
       "    .dataframe tbody tr th {\n",
       "        vertical-align: top;\n",
       "    }\n",
       "\n",
       "    .dataframe thead th {\n",
       "        text-align: right;\n",
       "    }\n",
       "</style>\n",
       "<table border=\"1\" class=\"dataframe\">\n",
       "  <thead>\n",
       "    <tr style=\"text-align: right;\">\n",
       "      <th></th>\n",
       "      <th>order_id</th>\n",
       "      <th>user_id</th>\n",
       "      <th>eval_set</th>\n",
       "      <th>order_number</th>\n",
       "      <th>order_dow</th>\n",
       "      <th>order_hour_of_day</th>\n",
       "      <th>days_since_prior_order</th>\n",
       "    </tr>\n",
       "  </thead>\n",
       "  <tbody>\n",
       "    <tr>\n",
       "      <td>0</td>\n",
       "      <td>2539329</td>\n",
       "      <td>1</td>\n",
       "      <td>prior</td>\n",
       "      <td>1</td>\n",
       "      <td>2</td>\n",
       "      <td>8</td>\n",
       "      <td>NaN</td>\n",
       "    </tr>\n",
       "    <tr>\n",
       "      <td>1</td>\n",
       "      <td>2398795</td>\n",
       "      <td>1</td>\n",
       "      <td>prior</td>\n",
       "      <td>2</td>\n",
       "      <td>3</td>\n",
       "      <td>7</td>\n",
       "      <td>15.0</td>\n",
       "    </tr>\n",
       "    <tr>\n",
       "      <td>2</td>\n",
       "      <td>473747</td>\n",
       "      <td>1</td>\n",
       "      <td>prior</td>\n",
       "      <td>3</td>\n",
       "      <td>3</td>\n",
       "      <td>12</td>\n",
       "      <td>21.0</td>\n",
       "    </tr>\n",
       "    <tr>\n",
       "      <td>3</td>\n",
       "      <td>2254736</td>\n",
       "      <td>1</td>\n",
       "      <td>prior</td>\n",
       "      <td>4</td>\n",
       "      <td>4</td>\n",
       "      <td>7</td>\n",
       "      <td>29.0</td>\n",
       "    </tr>\n",
       "    <tr>\n",
       "      <td>4</td>\n",
       "      <td>431534</td>\n",
       "      <td>1</td>\n",
       "      <td>prior</td>\n",
       "      <td>5</td>\n",
       "      <td>4</td>\n",
       "      <td>15</td>\n",
       "      <td>28.0</td>\n",
       "    </tr>\n",
       "  </tbody>\n",
       "</table>\n",
       "</div>"
      ],
      "text/plain": [
       "   order_id  user_id eval_set  order_number  order_dow  order_hour_of_day  \\\n",
       "0   2539329        1    prior             1          2                  8   \n",
       "1   2398795        1    prior             2          3                  7   \n",
       "2    473747        1    prior             3          3                 12   \n",
       "3   2254736        1    prior             4          4                  7   \n",
       "4    431534        1    prior             5          4                 15   \n",
       "\n",
       "   days_since_prior_order  \n",
       "0                     NaN  \n",
       "1                    15.0  \n",
       "2                    21.0  \n",
       "3                    29.0  \n",
       "4                    28.0  "
      ]
     },
     "execution_count": 20,
     "metadata": {},
     "output_type": "execute_result"
    }
   ],
   "source": [
    "orders.head(5)"
   ]
  },
  {
   "cell_type": "code",
   "execution_count": 21,
   "metadata": {},
   "outputs": [],
   "source": [
    "#orders.drop(['eval_set','days_since_prior_order'],axis=1,inplace= False )"
   ]
  },
  {
   "cell_type": "code",
   "execution_count": 22,
   "metadata": {},
   "outputs": [
    {
     "data": {
      "text/html": [
       "<div>\n",
       "<style scoped>\n",
       "    .dataframe tbody tr th:only-of-type {\n",
       "        vertical-align: middle;\n",
       "    }\n",
       "\n",
       "    .dataframe tbody tr th {\n",
       "        vertical-align: top;\n",
       "    }\n",
       "\n",
       "    .dataframe thead th {\n",
       "        text-align: right;\n",
       "    }\n",
       "</style>\n",
       "<table border=\"1\" class=\"dataframe\">\n",
       "  <thead>\n",
       "    <tr style=\"text-align: right;\">\n",
       "      <th></th>\n",
       "      <th>order_id</th>\n",
       "      <th>user_id</th>\n",
       "      <th>eval_set</th>\n",
       "      <th>order_number</th>\n",
       "      <th>order_dow</th>\n",
       "      <th>order_hour_of_day</th>\n",
       "      <th>days_since_prior_order</th>\n",
       "    </tr>\n",
       "  </thead>\n",
       "  <tbody>\n",
       "    <tr>\n",
       "      <td>0</td>\n",
       "      <td>2539329</td>\n",
       "      <td>1</td>\n",
       "      <td>prior</td>\n",
       "      <td>1</td>\n",
       "      <td>2</td>\n",
       "      <td>8</td>\n",
       "      <td>NaN</td>\n",
       "    </tr>\n",
       "    <tr>\n",
       "      <td>1</td>\n",
       "      <td>2398795</td>\n",
       "      <td>1</td>\n",
       "      <td>prior</td>\n",
       "      <td>2</td>\n",
       "      <td>3</td>\n",
       "      <td>7</td>\n",
       "      <td>15.0</td>\n",
       "    </tr>\n",
       "    <tr>\n",
       "      <td>2</td>\n",
       "      <td>473747</td>\n",
       "      <td>1</td>\n",
       "      <td>prior</td>\n",
       "      <td>3</td>\n",
       "      <td>3</td>\n",
       "      <td>12</td>\n",
       "      <td>21.0</td>\n",
       "    </tr>\n",
       "    <tr>\n",
       "      <td>3</td>\n",
       "      <td>2254736</td>\n",
       "      <td>1</td>\n",
       "      <td>prior</td>\n",
       "      <td>4</td>\n",
       "      <td>4</td>\n",
       "      <td>7</td>\n",
       "      <td>29.0</td>\n",
       "    </tr>\n",
       "    <tr>\n",
       "      <td>4</td>\n",
       "      <td>431534</td>\n",
       "      <td>1</td>\n",
       "      <td>prior</td>\n",
       "      <td>5</td>\n",
       "      <td>4</td>\n",
       "      <td>15</td>\n",
       "      <td>28.0</td>\n",
       "    </tr>\n",
       "  </tbody>\n",
       "</table>\n",
       "</div>"
      ],
      "text/plain": [
       "   order_id  user_id eval_set  order_number  order_dow  order_hour_of_day  \\\n",
       "0   2539329        1    prior             1          2                  8   \n",
       "1   2398795        1    prior             2          3                  7   \n",
       "2    473747        1    prior             3          3                 12   \n",
       "3   2254736        1    prior             4          4                  7   \n",
       "4    431534        1    prior             5          4                 15   \n",
       "\n",
       "   days_since_prior_order  \n",
       "0                     NaN  \n",
       "1                    15.0  \n",
       "2                    21.0  \n",
       "3                    29.0  \n",
       "4                    28.0  "
      ]
     },
     "execution_count": 22,
     "metadata": {},
     "output_type": "execute_result"
    }
   ],
   "source": [
    "orders.head(5)"
   ]
  },
  {
   "cell_type": "code",
   "execution_count": 23,
   "metadata": {},
   "outputs": [],
   "source": [
    "opp=pd.read_csv(\"order_products__prior.csv\")"
   ]
  },
  {
   "cell_type": "code",
   "execution_count": 24,
   "metadata": {},
   "outputs": [
    {
     "data": {
      "text/html": [
       "<div>\n",
       "<style scoped>\n",
       "    .dataframe tbody tr th:only-of-type {\n",
       "        vertical-align: middle;\n",
       "    }\n",
       "\n",
       "    .dataframe tbody tr th {\n",
       "        vertical-align: top;\n",
       "    }\n",
       "\n",
       "    .dataframe thead th {\n",
       "        text-align: right;\n",
       "    }\n",
       "</style>\n",
       "<table border=\"1\" class=\"dataframe\">\n",
       "  <thead>\n",
       "    <tr style=\"text-align: right;\">\n",
       "      <th></th>\n",
       "      <th>order_id</th>\n",
       "      <th>product_id</th>\n",
       "      <th>add_to_cart_order</th>\n",
       "      <th>reordered</th>\n",
       "    </tr>\n",
       "  </thead>\n",
       "  <tbody>\n",
       "    <tr>\n",
       "      <td>0</td>\n",
       "      <td>2</td>\n",
       "      <td>33120</td>\n",
       "      <td>1</td>\n",
       "      <td>1</td>\n",
       "    </tr>\n",
       "    <tr>\n",
       "      <td>1</td>\n",
       "      <td>2</td>\n",
       "      <td>28985</td>\n",
       "      <td>2</td>\n",
       "      <td>1</td>\n",
       "    </tr>\n",
       "    <tr>\n",
       "      <td>2</td>\n",
       "      <td>2</td>\n",
       "      <td>9327</td>\n",
       "      <td>3</td>\n",
       "      <td>0</td>\n",
       "    </tr>\n",
       "    <tr>\n",
       "      <td>3</td>\n",
       "      <td>2</td>\n",
       "      <td>45918</td>\n",
       "      <td>4</td>\n",
       "      <td>1</td>\n",
       "    </tr>\n",
       "    <tr>\n",
       "      <td>4</td>\n",
       "      <td>2</td>\n",
       "      <td>30035</td>\n",
       "      <td>5</td>\n",
       "      <td>0</td>\n",
       "    </tr>\n",
       "  </tbody>\n",
       "</table>\n",
       "</div>"
      ],
      "text/plain": [
       "   order_id  product_id  add_to_cart_order  reordered\n",
       "0         2       33120                  1          1\n",
       "1         2       28985                  2          1\n",
       "2         2        9327                  3          0\n",
       "3         2       45918                  4          1\n",
       "4         2       30035                  5          0"
      ]
     },
     "execution_count": 24,
     "metadata": {},
     "output_type": "execute_result"
    }
   ],
   "source": [
    "opp.head()"
   ]
  },
  {
   "cell_type": "code",
   "execution_count": 25,
   "metadata": {},
   "outputs": [],
   "source": [
    "selected_orders = set(opp.order_id.sample(100000).tolist())"
   ]
  },
  {
   "cell_type": "code",
   "execution_count": 26,
   "metadata": {},
   "outputs": [],
   "source": [
    "sampled_opp = opp[opp.order_id.isin(selected_orders)].reset_index(drop=True)"
   ]
  },
  {
   "cell_type": "code",
   "execution_count": 27,
   "metadata": {},
   "outputs": [],
   "source": [
    "opt=pd.read_csv(\"order_products__train.csv\")\n",
    "department=pd.read_csv(\"departments.csv\")\n",
    "ailes=pd.read_csv(\"aisles.csv\")"
   ]
  },
  {
   "cell_type": "code",
   "execution_count": 28,
   "metadata": {},
   "outputs": [],
   "source": [
    "opp_product = sampled_opp.merge(products, on='product_id')\n",
    "opp_prod_dept = opp_product.merge(department, on='department_id')\n",
    "opp_prod_dept_aisle = opp_prod_dept.merge(ailes, on='aisle_id')\n",
    "fdata = opp_prod_dept_aisle.merge(orders, on='order_id')"
   ]
  },
  {
   "cell_type": "code",
   "execution_count": 29,
   "metadata": {},
   "outputs": [
    {
     "data": {
      "text/html": [
       "<div>\n",
       "<style scoped>\n",
       "    .dataframe tbody tr th:only-of-type {\n",
       "        vertical-align: middle;\n",
       "    }\n",
       "\n",
       "    .dataframe tbody tr th {\n",
       "        vertical-align: top;\n",
       "    }\n",
       "\n",
       "    .dataframe thead th {\n",
       "        text-align: right;\n",
       "    }\n",
       "</style>\n",
       "<table border=\"1\" class=\"dataframe\">\n",
       "  <thead>\n",
       "    <tr style=\"text-align: right;\">\n",
       "      <th></th>\n",
       "      <th>order_id</th>\n",
       "      <th>product_id</th>\n",
       "      <th>add_to_cart_order</th>\n",
       "      <th>reordered</th>\n",
       "      <th>product_name</th>\n",
       "      <th>aisle_id</th>\n",
       "      <th>department_id</th>\n",
       "      <th>department</th>\n",
       "      <th>aisle</th>\n",
       "      <th>user_id</th>\n",
       "      <th>eval_set</th>\n",
       "      <th>order_number</th>\n",
       "      <th>order_dow</th>\n",
       "      <th>order_hour_of_day</th>\n",
       "      <th>days_since_prior_order</th>\n",
       "    </tr>\n",
       "  </thead>\n",
       "  <tbody>\n",
       "    <tr>\n",
       "      <td>0</td>\n",
       "      <td>13</td>\n",
       "      <td>17330</td>\n",
       "      <td>1</td>\n",
       "      <td>0</td>\n",
       "      <td>Light</td>\n",
       "      <td>27</td>\n",
       "      <td>5</td>\n",
       "      <td>alcohol</td>\n",
       "      <td>beers coolers</td>\n",
       "      <td>45082</td>\n",
       "      <td>prior</td>\n",
       "      <td>2</td>\n",
       "      <td>6</td>\n",
       "      <td>17</td>\n",
       "      <td>1.0</td>\n",
       "    </tr>\n",
       "    <tr>\n",
       "      <td>1</td>\n",
       "      <td>13</td>\n",
       "      <td>35419</td>\n",
       "      <td>3</td>\n",
       "      <td>0</td>\n",
       "      <td>Handmade Vodka From Austin, Texas</td>\n",
       "      <td>124</td>\n",
       "      <td>5</td>\n",
       "      <td>alcohol</td>\n",
       "      <td>spirits</td>\n",
       "      <td>45082</td>\n",
       "      <td>prior</td>\n",
       "      <td>2</td>\n",
       "      <td>6</td>\n",
       "      <td>17</td>\n",
       "      <td>1.0</td>\n",
       "    </tr>\n",
       "    <tr>\n",
       "      <td>2</td>\n",
       "      <td>13</td>\n",
       "      <td>27407</td>\n",
       "      <td>2</td>\n",
       "      <td>0</td>\n",
       "      <td>Chunky Salsa Medium</td>\n",
       "      <td>51</td>\n",
       "      <td>13</td>\n",
       "      <td>pantry</td>\n",
       "      <td>preserved dips spreads</td>\n",
       "      <td>45082</td>\n",
       "      <td>prior</td>\n",
       "      <td>2</td>\n",
       "      <td>6</td>\n",
       "      <td>17</td>\n",
       "      <td>1.0</td>\n",
       "    </tr>\n",
       "    <tr>\n",
       "      <td>3</td>\n",
       "      <td>13</td>\n",
       "      <td>44635</td>\n",
       "      <td>5</td>\n",
       "      <td>0</td>\n",
       "      <td>Salsa Con Queso Medium Dip</td>\n",
       "      <td>51</td>\n",
       "      <td>13</td>\n",
       "      <td>pantry</td>\n",
       "      <td>preserved dips spreads</td>\n",
       "      <td>45082</td>\n",
       "      <td>prior</td>\n",
       "      <td>2</td>\n",
       "      <td>6</td>\n",
       "      <td>17</td>\n",
       "      <td>1.0</td>\n",
       "    </tr>\n",
       "    <tr>\n",
       "      <td>4</td>\n",
       "      <td>13</td>\n",
       "      <td>196</td>\n",
       "      <td>4</td>\n",
       "      <td>0</td>\n",
       "      <td>Soda</td>\n",
       "      <td>77</td>\n",
       "      <td>7</td>\n",
       "      <td>beverages</td>\n",
       "      <td>soft drinks</td>\n",
       "      <td>45082</td>\n",
       "      <td>prior</td>\n",
       "      <td>2</td>\n",
       "      <td>6</td>\n",
       "      <td>17</td>\n",
       "      <td>1.0</td>\n",
       "    </tr>\n",
       "  </tbody>\n",
       "</table>\n",
       "</div>"
      ],
      "text/plain": [
       "   order_id  product_id  add_to_cart_order  reordered  \\\n",
       "0        13       17330                  1          0   \n",
       "1        13       35419                  3          0   \n",
       "2        13       27407                  2          0   \n",
       "3        13       44635                  5          0   \n",
       "4        13         196                  4          0   \n",
       "\n",
       "                        product_name  aisle_id  department_id department  \\\n",
       "0                              Light        27              5    alcohol   \n",
       "1  Handmade Vodka From Austin, Texas       124              5    alcohol   \n",
       "2                Chunky Salsa Medium        51             13     pantry   \n",
       "3         Salsa Con Queso Medium Dip        51             13     pantry   \n",
       "4                               Soda        77              7  beverages   \n",
       "\n",
       "                    aisle  user_id eval_set  order_number  order_dow  \\\n",
       "0           beers coolers    45082    prior             2          6   \n",
       "1                 spirits    45082    prior             2          6   \n",
       "2  preserved dips spreads    45082    prior             2          6   \n",
       "3  preserved dips spreads    45082    prior             2          6   \n",
       "4             soft drinks    45082    prior             2          6   \n",
       "\n",
       "   order_hour_of_day  days_since_prior_order  \n",
       "0                 17                     1.0  \n",
       "1                 17                     1.0  \n",
       "2                 17                     1.0  \n",
       "3                 17                     1.0  \n",
       "4                 17                     1.0  "
      ]
     },
     "execution_count": 29,
     "metadata": {},
     "output_type": "execute_result"
    }
   ],
   "source": [
    "fdata.head()"
   ]
  },
  {
   "cell_type": "code",
   "execution_count": 30,
   "metadata": {},
   "outputs": [
    {
     "data": {
      "text/plain": [
       "(1522612, 15)"
      ]
     },
     "execution_count": 30,
     "metadata": {},
     "output_type": "execute_result"
    }
   ],
   "source": [
    "fdata.shape"
   ]
  },
  {
   "cell_type": "code",
   "execution_count": 37,
   "metadata": {},
   "outputs": [],
   "source": [
    "fdata=fdata[['user_id','order_hour_of_day','order_dow','order_number','order_id','product_id','product_name','reordered','days_since_prior_order','department_id','department','aisle']]"
   ]
  },
  {
   "cell_type": "code",
   "execution_count": 38,
   "metadata": {},
   "outputs": [
    {
     "data": {
      "text/html": [
       "<div>\n",
       "<style scoped>\n",
       "    .dataframe tbody tr th:only-of-type {\n",
       "        vertical-align: middle;\n",
       "    }\n",
       "\n",
       "    .dataframe tbody tr th {\n",
       "        vertical-align: top;\n",
       "    }\n",
       "\n",
       "    .dataframe thead th {\n",
       "        text-align: right;\n",
       "    }\n",
       "</style>\n",
       "<table border=\"1\" class=\"dataframe\">\n",
       "  <thead>\n",
       "    <tr style=\"text-align: right;\">\n",
       "      <th></th>\n",
       "      <th>user_id</th>\n",
       "      <th>order_hour_of_day</th>\n",
       "      <th>order_dow</th>\n",
       "      <th>order_number</th>\n",
       "      <th>order_id</th>\n",
       "      <th>product_id</th>\n",
       "      <th>product_name</th>\n",
       "      <th>reordered</th>\n",
       "      <th>days_since_prior_order</th>\n",
       "      <th>department_id</th>\n",
       "      <th>department</th>\n",
       "      <th>aisle</th>\n",
       "    </tr>\n",
       "  </thead>\n",
       "  <tbody>\n",
       "    <tr>\n",
       "      <td>0</td>\n",
       "      <td>45082</td>\n",
       "      <td>17</td>\n",
       "      <td>6</td>\n",
       "      <td>2</td>\n",
       "      <td>13</td>\n",
       "      <td>17330</td>\n",
       "      <td>Light</td>\n",
       "      <td>0</td>\n",
       "      <td>1.0</td>\n",
       "      <td>5</td>\n",
       "      <td>alcohol</td>\n",
       "      <td>beers coolers</td>\n",
       "    </tr>\n",
       "    <tr>\n",
       "      <td>1</td>\n",
       "      <td>45082</td>\n",
       "      <td>17</td>\n",
       "      <td>6</td>\n",
       "      <td>2</td>\n",
       "      <td>13</td>\n",
       "      <td>35419</td>\n",
       "      <td>Handmade Vodka From Austin, Texas</td>\n",
       "      <td>0</td>\n",
       "      <td>1.0</td>\n",
       "      <td>5</td>\n",
       "      <td>alcohol</td>\n",
       "      <td>spirits</td>\n",
       "    </tr>\n",
       "    <tr>\n",
       "      <td>2</td>\n",
       "      <td>45082</td>\n",
       "      <td>17</td>\n",
       "      <td>6</td>\n",
       "      <td>2</td>\n",
       "      <td>13</td>\n",
       "      <td>27407</td>\n",
       "      <td>Chunky Salsa Medium</td>\n",
       "      <td>0</td>\n",
       "      <td>1.0</td>\n",
       "      <td>13</td>\n",
       "      <td>pantry</td>\n",
       "      <td>preserved dips spreads</td>\n",
       "    </tr>\n",
       "    <tr>\n",
       "      <td>3</td>\n",
       "      <td>45082</td>\n",
       "      <td>17</td>\n",
       "      <td>6</td>\n",
       "      <td>2</td>\n",
       "      <td>13</td>\n",
       "      <td>44635</td>\n",
       "      <td>Salsa Con Queso Medium Dip</td>\n",
       "      <td>0</td>\n",
       "      <td>1.0</td>\n",
       "      <td>13</td>\n",
       "      <td>pantry</td>\n",
       "      <td>preserved dips spreads</td>\n",
       "    </tr>\n",
       "    <tr>\n",
       "      <td>4</td>\n",
       "      <td>45082</td>\n",
       "      <td>17</td>\n",
       "      <td>6</td>\n",
       "      <td>2</td>\n",
       "      <td>13</td>\n",
       "      <td>196</td>\n",
       "      <td>Soda</td>\n",
       "      <td>0</td>\n",
       "      <td>1.0</td>\n",
       "      <td>7</td>\n",
       "      <td>beverages</td>\n",
       "      <td>soft drinks</td>\n",
       "    </tr>\n",
       "  </tbody>\n",
       "</table>\n",
       "</div>"
      ],
      "text/plain": [
       "   user_id  order_hour_of_day  order_dow  order_number  order_id  product_id  \\\n",
       "0    45082                 17          6             2        13       17330   \n",
       "1    45082                 17          6             2        13       35419   \n",
       "2    45082                 17          6             2        13       27407   \n",
       "3    45082                 17          6             2        13       44635   \n",
       "4    45082                 17          6             2        13         196   \n",
       "\n",
       "                        product_name  reordered  days_since_prior_order  \\\n",
       "0                              Light          0                     1.0   \n",
       "1  Handmade Vodka From Austin, Texas          0                     1.0   \n",
       "2                Chunky Salsa Medium          0                     1.0   \n",
       "3         Salsa Con Queso Medium Dip          0                     1.0   \n",
       "4                               Soda          0                     1.0   \n",
       "\n",
       "   department_id department                   aisle  \n",
       "0              5    alcohol           beers coolers  \n",
       "1              5    alcohol                 spirits  \n",
       "2             13     pantry  preserved dips spreads  \n",
       "3             13     pantry  preserved dips spreads  \n",
       "4              7  beverages             soft drinks  "
      ]
     },
     "execution_count": 38,
     "metadata": {},
     "output_type": "execute_result"
    }
   ],
   "source": [
    "fdata.head()"
   ]
  },
  {
   "cell_type": "code",
   "execution_count": 39,
   "metadata": {},
   "outputs": [
    {
     "data": {
      "text/plain": [
       "(1522612, 12)"
      ]
     },
     "execution_count": 39,
     "metadata": {},
     "output_type": "execute_result"
    }
   ],
   "source": [
    "fdata.shape"
   ]
  },
  {
   "cell_type": "code",
   "execution_count": 40,
   "metadata": {},
   "outputs": [
    {
     "data": {
      "text/plain": [
       "produce       440385\n",
       "dairy eggs    251811\n",
       "snacks        140271\n",
       "Name: department, dtype: int64"
      ]
     },
     "execution_count": 40,
     "metadata": {},
     "output_type": "execute_result"
    }
   ],
   "source": [
    "fdata['department'].value_counts().head(3)"
   ]
  },
  {
   "cell_type": "code",
   "execution_count": 41,
   "metadata": {},
   "outputs": [
    {
     "data": {
      "text/html": [
       "<div>\n",
       "<style scoped>\n",
       "    .dataframe tbody tr th:only-of-type {\n",
       "        vertical-align: middle;\n",
       "    }\n",
       "\n",
       "    .dataframe tbody tr th {\n",
       "        vertical-align: top;\n",
       "    }\n",
       "\n",
       "    .dataframe thead th {\n",
       "        text-align: right;\n",
       "    }\n",
       "</style>\n",
       "<table border=\"1\" class=\"dataframe\">\n",
       "  <thead>\n",
       "    <tr style=\"text-align: right;\">\n",
       "      <th></th>\n",
       "      <th>index</th>\n",
       "      <th>product_name</th>\n",
       "    </tr>\n",
       "  </thead>\n",
       "  <tbody>\n",
       "    <tr>\n",
       "      <td>0</td>\n",
       "      <td>Banana</td>\n",
       "      <td>19741</td>\n",
       "    </tr>\n",
       "    <tr>\n",
       "      <td>1</td>\n",
       "      <td>Bag of Organic Bananas</td>\n",
       "      <td>15707</td>\n",
       "    </tr>\n",
       "    <tr>\n",
       "      <td>2</td>\n",
       "      <td>Organic Strawberries</td>\n",
       "      <td>11890</td>\n",
       "    </tr>\n",
       "    <tr>\n",
       "      <td>3</td>\n",
       "      <td>Organic Baby Spinach</td>\n",
       "      <td>10686</td>\n",
       "    </tr>\n",
       "    <tr>\n",
       "      <td>4</td>\n",
       "      <td>Organic Hass Avocado</td>\n",
       "      <td>10126</td>\n",
       "    </tr>\n",
       "    <tr>\n",
       "      <td>5</td>\n",
       "      <td>Organic Avocado</td>\n",
       "      <td>7878</td>\n",
       "    </tr>\n",
       "    <tr>\n",
       "      <td>6</td>\n",
       "      <td>Large Lemon</td>\n",
       "      <td>7374</td>\n",
       "    </tr>\n",
       "    <tr>\n",
       "      <td>7</td>\n",
       "      <td>Limes</td>\n",
       "      <td>6943</td>\n",
       "    </tr>\n",
       "    <tr>\n",
       "      <td>8</td>\n",
       "      <td>Organic Raspberries</td>\n",
       "      <td>6606</td>\n",
       "    </tr>\n",
       "    <tr>\n",
       "      <td>9</td>\n",
       "      <td>Strawberries</td>\n",
       "      <td>6033</td>\n",
       "    </tr>\n",
       "  </tbody>\n",
       "</table>\n",
       "</div>"
      ],
      "text/plain": [
       "                    index  product_name\n",
       "0                  Banana         19741\n",
       "1  Bag of Organic Bananas         15707\n",
       "2    Organic Strawberries         11890\n",
       "3    Organic Baby Spinach         10686\n",
       "4    Organic Hass Avocado         10126\n",
       "5         Organic Avocado          7878\n",
       "6             Large Lemon          7374\n",
       "7                   Limes          6943\n",
       "8     Organic Raspberries          6606\n",
       "9            Strawberries          6033"
      ]
     },
     "execution_count": 41,
     "metadata": {},
     "output_type": "execute_result"
    }
   ],
   "source": [
    "#top 5 orders --->\n",
    "fdata.product_name.value_counts(ascending=False).reset_index().head(10)"
   ]
  },
  {
   "cell_type": "code",
   "execution_count": 42,
   "metadata": {},
   "outputs": [
    {
     "data": {
      "text/html": [
       "<div>\n",
       "<style scoped>\n",
       "    .dataframe tbody tr th:only-of-type {\n",
       "        vertical-align: middle;\n",
       "    }\n",
       "\n",
       "    .dataframe tbody tr th {\n",
       "        vertical-align: top;\n",
       "    }\n",
       "\n",
       "    .dataframe thead th {\n",
       "        text-align: right;\n",
       "    }\n",
       "</style>\n",
       "<table border=\"1\" class=\"dataframe\">\n",
       "  <thead>\n",
       "    <tr style=\"text-align: right;\">\n",
       "      <th></th>\n",
       "      <th>index</th>\n",
       "      <th>product_name</th>\n",
       "    </tr>\n",
       "  </thead>\n",
       "  <tbody>\n",
       "    <tr>\n",
       "      <td>38044</td>\n",
       "      <td>Gluten Free Seeds &amp; Grains Bread</td>\n",
       "      <td>1</td>\n",
       "    </tr>\n",
       "    <tr>\n",
       "      <td>38045</td>\n",
       "      <td>100 Calorie Right Bites Crackers</td>\n",
       "      <td>1</td>\n",
       "    </tr>\n",
       "    <tr>\n",
       "      <td>38046</td>\n",
       "      <td>Spicy Spinach Blend</td>\n",
       "      <td>1</td>\n",
       "    </tr>\n",
       "    <tr>\n",
       "      <td>38047</td>\n",
       "      <td>Snacks Apple</td>\n",
       "      <td>1</td>\n",
       "    </tr>\n",
       "    <tr>\n",
       "      <td>38048</td>\n",
       "      <td>Brownie Crunch High Protein Bars</td>\n",
       "      <td>1</td>\n",
       "    </tr>\n",
       "  </tbody>\n",
       "</table>\n",
       "</div>"
      ],
      "text/plain": [
       "                                  index  product_name\n",
       "38044  Gluten Free Seeds & Grains Bread             1\n",
       "38045  100 Calorie Right Bites Crackers             1\n",
       "38046               Spicy Spinach Blend             1\n",
       "38047                      Snacks Apple             1\n",
       "38048  Brownie Crunch High Protein Bars             1"
      ]
     },
     "execution_count": 42,
     "metadata": {},
     "output_type": "execute_result"
    }
   ],
   "source": [
    "fdata.product_name.value_counts(ascending=False).reset_index().tail(5)"
   ]
  },
  {
   "cell_type": "code",
   "execution_count": 43,
   "metadata": {},
   "outputs": [
    {
     "data": {
      "text/plain": [
       "<matplotlib.axes._subplots.AxesSubplot at 0x1a1bd94150>"
      ]
     },
     "execution_count": 43,
     "metadata": {},
     "output_type": "execute_result"
    },
    {
     "data": {
      "image/png": "[encoded data removed]",
      "text/plain": [
       "<Figure size 432x288 with 1 Axes>"
      ]
     },
     "metadata": {
      "needs_background": "light"
     },
     "output_type": "display_data"
    }
   ],
   "source": [
    "fdata['department'].value_counts().plot(kind='bar')"
   ]
  },
  {
   "cell_type": "code",
   "execution_count": 44,
   "metadata": {},
   "outputs": [
    {
     "data": {
      "text/plain": [
       "<matplotlib.axes._subplots.AxesSubplot at 0x1a1cd61590>"
      ]
     },
     "execution_count": 44,
     "metadata": {},
     "output_type": "execute_result"
    },
    {
     "data": {
      "image/png": "[encoded data removed]",
      "text/plain": [
       "<Figure size 432x288 with 1 Axes>"
      ]
     },
     "metadata": {
      "needs_background": "light"
     },
     "output_type": "display_data"
    }
   ],
   "source": [
    "fdata['order_hour_of_day'].value_counts().plot(kind='bar')"
   ]
  },
  {
   "cell_type": "code",
   "execution_count": 45,
   "metadata": {},
   "outputs": [],
   "source": [
    "# users oders are the highest from 9 am untill 6 pm. By 10 amd and 11 am  order the most and after 6 pm it slows down. "
   ]
  },
  {
   "cell_type": "code",
   "execution_count": 46,
   "metadata": {},
   "outputs": [
    {
     "data": {
      "text/plain": [
       "11    130559\n",
       "10    129654\n",
       "12    126488\n",
       "14    126012\n",
       "13    124608\n",
       "15    121394\n",
       "9     119481\n",
       "16    114529\n",
       "17     93590\n",
       "8      81598\n",
       "18     72898\n",
       "19     53844\n",
       "20     46453\n",
       "7      43611\n",
       "21     40366\n",
       "22     32488\n",
       "23     20509\n",
       "6      14146\n",
       "0      10644\n",
       "1       5811\n",
       "5       5064\n",
       "4       3255\n",
       "2       3040\n",
       "3       2570\n",
       "Name: order_hour_of_day, dtype: int64"
      ]
     },
     "execution_count": 46,
     "metadata": {},
     "output_type": "execute_result"
    }
   ],
   "source": [
    "fdata['order_hour_of_day'].value_counts().head(24)"
   ]
  },
  {
   "cell_type": "code",
   "execution_count": 47,
   "metadata": {},
   "outputs": [
    {
     "data": {
      "text/plain": [
       "<matplotlib.axes._subplots.AxesSubplot at 0x1a1d36de10>"
      ]
     },
     "execution_count": 47,
     "metadata": {},
     "output_type": "execute_result"
    },
    {
     "data": {
      "image/png": "[encoded data removed]",
      "text/plain": [
       "<Figure size 432x288 with 1 Axes>"
      ]
     },
     "metadata": {
      "needs_background": "light"
     },
     "output_type": "display_data"
    }
   ],
   "source": [
    "\n",
    "fdata['order_dow'].value_counts().plot(kind='bar')"
   ]
  },
  {
   "cell_type": "code",
   "execution_count": 48,
   "metadata": {},
   "outputs": [],
   "source": [
    "# sunday,saturday , monday has the most orders\n",
    "#wednesday , thursday \n"
   ]
  },
  {
   "cell_type": "code",
   "execution_count": null,
   "metadata": {},
   "outputs": [],
   "source": []
  },
  {
   "cell_type": "code",
   "execution_count": 49,
   "metadata": {},
   "outputs": [
    {
     "data": {
      "text/plain": [
       "user_id                   62765\n",
       "order_hour_of_day            24\n",
       "order_dow                     7\n",
       "order_number                 99\n",
       "order_id                  97799\n",
       "product_id                38049\n",
       "product_name              38049\n",
       "reordered                     2\n",
       "days_since_prior_order       31\n",
       "department_id                21\n",
       "department                   21\n",
       "aisle                       134\n",
       "dtype: int64"
      ]
     },
     "execution_count": 49,
     "metadata": {},
     "output_type": "execute_result"
    }
   ],
   "source": [
    "fdata.nunique()"
   ]
  },
  {
   "cell_type": "code",
   "execution_count": 50,
   "metadata": {},
   "outputs": [],
   "source": [
    "users=fdata.user_id.unique()"
   ]
  },
  {
   "cell_type": "code",
   "execution_count": 51,
   "metadata": {},
   "outputs": [],
   "source": [
    "user_count=len(users)"
   ]
  },
  {
   "cell_type": "code",
   "execution_count": 52,
   "metadata": {},
   "outputs": [
    {
     "data": {
      "text/plain": [
       "62765"
      ]
     },
     "execution_count": 52,
     "metadata": {},
     "output_type": "execute_result"
    }
   ],
   "source": [
    "user_count"
   ]
  },
  {
   "cell_type": "code",
   "execution_count": 53,
   "metadata": {},
   "outputs": [],
   "source": [
    "orders_amount_of_users = fdata.groupby('user_id')['order_number'].count().value_counts()"
   ]
  },
  {
   "cell_type": "code",
   "execution_count": 54,
   "metadata": {},
   "outputs": [
    {
     "data": {
      "text/plain": [
       "Text(0.5, 0, 'Amount of Orders')"
      ]
     },
     "execution_count": 54,
     "metadata": {},
     "output_type": "execute_result"
    },
    {
     "data": {
      "image/png": "[encoded data removed]",
      "text/plain": [
       "<Figure size 864x720 with 1 Axes>"
      ]
     },
     "metadata": {
      "needs_background": "light"
     },
     "output_type": "display_data"
    }
   ],
   "source": [
    "#Distirbution of orders among users \n",
    "plt.figure(figsize=(12,10))\n",
    "sns.barplot(x= orders_amount_of_users.index, y=orders_amount_of_users.values,color='blue')\n",
    "plt.ylabel('Number of Customers')\n",
    "plt.xlabel('Amount of Orders')\n"
   ]
  },
  {
   "cell_type": "code",
   "execution_count": 55,
   "metadata": {},
   "outputs": [],
   "source": [
    "#average, customers order about 4-5 times . "
   ]
  },
  {
   "cell_type": "code",
   "execution_count": 56,
   "metadata": {},
   "outputs": [
    {
     "data": {
      "text/plain": [
       "(1522612, 12)"
      ]
     },
     "execution_count": 56,
     "metadata": {},
     "output_type": "execute_result"
    }
   ],
   "source": [
    "fdata.shape"
   ]
  },
  {
   "cell_type": "code",
   "execution_count": 57,
   "metadata": {},
   "outputs": [
    {
     "data": {
      "text/plain": [
       "user_id  order_number\n",
       "25070    13              109\n",
       "60694    2               108\n",
       "72377    7               104\n",
       "129928   30              104\n",
       "         55              101\n",
       "163724   7                99\n",
       "60694    6                96\n",
       "         62               96\n",
       "201268   9                94\n",
       "166743   32               92\n",
       "Name: order_number, dtype: int64"
      ]
     },
     "execution_count": 57,
     "metadata": {},
     "output_type": "execute_result"
    }
   ],
   "source": [
    "fdata.groupby('user_id').order_number.value_counts().sort_values(ascending=False).head(10)\n"
   ]
  },
  {
   "cell_type": "code",
   "execution_count": 58,
   "metadata": {},
   "outputs": [
    {
     "data": {
      "text/plain": [
       "62765"
      ]
     },
     "execution_count": 58,
     "metadata": {},
     "output_type": "execute_result"
    }
   ],
   "source": [
    "fdata.user_id.nunique()"
   ]
  },
  {
   "cell_type": "code",
   "execution_count": 59,
   "metadata": {},
   "outputs": [],
   "source": [
    "hmap1 = fdata.groupby([\"order_hour_of_day\",\"order_dow\"])[\"order_number\"].aggregate(\"count\").reset_index()"
   ]
  },
  {
   "cell_type": "code",
   "execution_count": 60,
   "metadata": {},
   "outputs": [
    {
     "data": {
      "text/plain": [
       "<matplotlib.axes._subplots.AxesSubplot at 0x1a211d7790>"
      ]
     },
     "execution_count": 60,
     "metadata": {},
     "output_type": "execute_result"
    },
    {
     "data": {
      "image/png": "[encoded data removed]",
      "text/plain": [
       "<Figure size 432x288 with 2 Axes>"
      ]
     },
     "metadata": {
      "needs_background": "light"
     },
     "output_type": "display_data"
    }
   ],
   "source": [
    "hmap1 = hmap1.pivot('order_dow', 'order_hour_of_day', 'order_number')\n",
    "sns.heatmap(hmap1)\n"
   ]
  },
  {
   "cell_type": "code",
   "execution_count": 61,
   "metadata": {},
   "outputs": [],
   "source": [
    "#most oreders are saturday morning and sunday morning "
   ]
  },
  {
   "cell_type": "code",
   "execution_count": 62,
   "metadata": {},
   "outputs": [
    {
     "data": {
      "text/plain": [
       "134"
      ]
     },
     "execution_count": 62,
     "metadata": {},
     "output_type": "execute_result"
    }
   ],
   "source": [
    "len(fdata['aisle'].unique())"
   ]
  },
  {
   "cell_type": "code",
   "execution_count": 63,
   "metadata": {},
   "outputs": [
    {
     "data": {
      "text/plain": [
       "fresh vegetables                 167363\n",
       "fresh fruits                     164027\n",
       "packaged vegetables fruits        82661\n",
       "yogurt                            71798\n",
       "packaged cheese                   48732\n",
       "milk                              37376\n",
       "chips pretzels                    35193\n",
       "water seltzer sparkling water     33343\n",
       "soy lactosefree                   28245\n",
       "bread                             26918\n",
       "Name: aisle, dtype: int64"
      ]
     },
     "execution_count": 63,
     "metadata": {},
     "output_type": "execute_result"
    }
   ],
   "source": [
    "fdata['aisle'].value_counts()[0:10]"
   ]
  },
  {
   "cell_type": "code",
   "execution_count": 64,
   "metadata": {},
   "outputs": [],
   "source": [
    "number_of_items_per_order=fdata.groupby('order_id')['product_id'].count().value_counts().sort_values(ascending=False).head(10)"
   ]
  },
  {
   "cell_type": "code",
   "execution_count": 65,
   "metadata": {},
   "outputs": [
    {
     "data": {
      "text/plain": [
       "9     5129\n",
       "8     5058\n",
       "10    5047\n",
       "11    4843\n",
       "12    4818\n",
       "7     4721\n",
       "13    4529\n",
       "14    4454\n",
       "15    4233\n",
       "6     4126\n",
       "Name: product_id, dtype: int64"
      ]
     },
     "execution_count": 65,
     "metadata": {},
     "output_type": "execute_result"
    }
   ],
   "source": [
    "number_of_items_per_order"
   ]
  },
  {
   "cell_type": "code",
   "execution_count": 66,
   "metadata": {},
   "outputs": [],
   "source": [
    "#Majority of order consisted of 9-10 orders. "
   ]
  },
  {
   "cell_type": "code",
   "execution_count": 67,
   "metadata": {},
   "outputs": [
    {
     "data": {
      "text/plain": [
       "<matplotlib.axes._subplots.AxesSubplot at 0x1a2454bad0>"
      ]
     },
     "execution_count": 67,
     "metadata": {},
     "output_type": "execute_result"
    },
    {
     "data": {
      "image/png": "[encoded data removed]",
      "text/plain": [
       "<Figure size 432x288 with 1 Axes>"
      ]
     },
     "metadata": {
      "needs_background": "light"
     },
     "output_type": "display_data"
    }
   ],
   "source": [
    "fdata.days_since_prior_order.value_counts().sort_index().plot()"
   ]
  },
  {
   "cell_type": "code",
   "execution_count": 68,
   "metadata": {},
   "outputs": [],
   "source": [
    "#most orders are being ordered the most after 6-7 days. it appears to peak by 14 days and 21-22 days which indicates users habbit of ordering weekly,biweekly,triweekly. "
   ]
  },
  {
   "cell_type": "code",
   "execution_count": 69,
   "metadata": {},
   "outputs": [
    {
     "data": {
      "text/html": [
       "<div>\n",
       "<style scoped>\n",
       "    .dataframe tbody tr th:only-of-type {\n",
       "        vertical-align: middle;\n",
       "    }\n",
       "\n",
       "    .dataframe tbody tr th {\n",
       "        vertical-align: top;\n",
       "    }\n",
       "\n",
       "    .dataframe thead th {\n",
       "        text-align: right;\n",
       "    }\n",
       "</style>\n",
       "<table border=\"1\" class=\"dataframe\">\n",
       "  <thead>\n",
       "    <tr style=\"text-align: right;\">\n",
       "      <th>department</th>\n",
       "      <th>alcohol</th>\n",
       "      <th>babies</th>\n",
       "      <th>bakery</th>\n",
       "      <th>beverages</th>\n",
       "      <th>breakfast</th>\n",
       "      <th>bulk</th>\n",
       "      <th>canned goods</th>\n",
       "      <th>dairy eggs</th>\n",
       "      <th>deli</th>\n",
       "      <th>dry goods pasta</th>\n",
       "      <th>...</th>\n",
       "      <th>household</th>\n",
       "      <th>international</th>\n",
       "      <th>meat seafood</th>\n",
       "      <th>missing</th>\n",
       "      <th>other</th>\n",
       "      <th>pantry</th>\n",
       "      <th>personal care</th>\n",
       "      <th>pets</th>\n",
       "      <th>produce</th>\n",
       "      <th>snacks</th>\n",
       "    </tr>\n",
       "    <tr>\n",
       "      <th>order_hour_of_day</th>\n",
       "      <th></th>\n",
       "      <th></th>\n",
       "      <th></th>\n",
       "      <th></th>\n",
       "      <th></th>\n",
       "      <th></th>\n",
       "      <th></th>\n",
       "      <th></th>\n",
       "      <th></th>\n",
       "      <th></th>\n",
       "      <th></th>\n",
       "      <th></th>\n",
       "      <th></th>\n",
       "      <th></th>\n",
       "      <th></th>\n",
       "      <th></th>\n",
       "      <th></th>\n",
       "      <th></th>\n",
       "      <th></th>\n",
       "      <th></th>\n",
       "      <th></th>\n",
       "    </tr>\n",
       "  </thead>\n",
       "  <tbody>\n",
       "    <tr>\n",
       "      <td>0</td>\n",
       "      <td>17</td>\n",
       "      <td>119</td>\n",
       "      <td>340</td>\n",
       "      <td>865</td>\n",
       "      <td>224</td>\n",
       "      <td>7</td>\n",
       "      <td>378</td>\n",
       "      <td>1641</td>\n",
       "      <td>328</td>\n",
       "      <td>287</td>\n",
       "      <td>...</td>\n",
       "      <td>229</td>\n",
       "      <td>75</td>\n",
       "      <td>214</td>\n",
       "      <td>21</td>\n",
       "      <td>7</td>\n",
       "      <td>705</td>\n",
       "      <td>147</td>\n",
       "      <td>57</td>\n",
       "      <td>3149</td>\n",
       "      <td>944</td>\n",
       "    </tr>\n",
       "    <tr>\n",
       "      <td>1</td>\n",
       "      <td>11</td>\n",
       "      <td>64</td>\n",
       "      <td>188</td>\n",
       "      <td>465</td>\n",
       "      <td>128</td>\n",
       "      <td>7</td>\n",
       "      <td>183</td>\n",
       "      <td>956</td>\n",
       "      <td>176</td>\n",
       "      <td>161</td>\n",
       "      <td>...</td>\n",
       "      <td>106</td>\n",
       "      <td>54</td>\n",
       "      <td>92</td>\n",
       "      <td>11</td>\n",
       "      <td>5</td>\n",
       "      <td>368</td>\n",
       "      <td>106</td>\n",
       "      <td>43</td>\n",
       "      <td>1671</td>\n",
       "      <td>548</td>\n",
       "    </tr>\n",
       "    <tr>\n",
       "      <td>2</td>\n",
       "      <td>11</td>\n",
       "      <td>44</td>\n",
       "      <td>105</td>\n",
       "      <td>235</td>\n",
       "      <td>61</td>\n",
       "      <td>1</td>\n",
       "      <td>116</td>\n",
       "      <td>456</td>\n",
       "      <td>84</td>\n",
       "      <td>89</td>\n",
       "      <td>...</td>\n",
       "      <td>80</td>\n",
       "      <td>26</td>\n",
       "      <td>72</td>\n",
       "      <td>13</td>\n",
       "      <td>2</td>\n",
       "      <td>219</td>\n",
       "      <td>43</td>\n",
       "      <td>8</td>\n",
       "      <td>880</td>\n",
       "      <td>240</td>\n",
       "    </tr>\n",
       "    <tr>\n",
       "      <td>3</td>\n",
       "      <td>11</td>\n",
       "      <td>36</td>\n",
       "      <td>89</td>\n",
       "      <td>219</td>\n",
       "      <td>54</td>\n",
       "      <td>3</td>\n",
       "      <td>94</td>\n",
       "      <td>393</td>\n",
       "      <td>73</td>\n",
       "      <td>85</td>\n",
       "      <td>...</td>\n",
       "      <td>51</td>\n",
       "      <td>26</td>\n",
       "      <td>60</td>\n",
       "      <td>7</td>\n",
       "      <td>3</td>\n",
       "      <td>141</td>\n",
       "      <td>49</td>\n",
       "      <td>25</td>\n",
       "      <td>702</td>\n",
       "      <td>233</td>\n",
       "    </tr>\n",
       "    <tr>\n",
       "      <td>4</td>\n",
       "      <td>8</td>\n",
       "      <td>48</td>\n",
       "      <td>113</td>\n",
       "      <td>258</td>\n",
       "      <td>69</td>\n",
       "      <td>1</td>\n",
       "      <td>147</td>\n",
       "      <td>489</td>\n",
       "      <td>124</td>\n",
       "      <td>100</td>\n",
       "      <td>...</td>\n",
       "      <td>79</td>\n",
       "      <td>39</td>\n",
       "      <td>79</td>\n",
       "      <td>4</td>\n",
       "      <td>4</td>\n",
       "      <td>178</td>\n",
       "      <td>41</td>\n",
       "      <td>24</td>\n",
       "      <td>879</td>\n",
       "      <td>249</td>\n",
       "    </tr>\n",
       "    <tr>\n",
       "      <td>5</td>\n",
       "      <td>7</td>\n",
       "      <td>73</td>\n",
       "      <td>157</td>\n",
       "      <td>365</td>\n",
       "      <td>111</td>\n",
       "      <td>2</td>\n",
       "      <td>195</td>\n",
       "      <td>803</td>\n",
       "      <td>170</td>\n",
       "      <td>134</td>\n",
       "      <td>...</td>\n",
       "      <td>147</td>\n",
       "      <td>40</td>\n",
       "      <td>112</td>\n",
       "      <td>16</td>\n",
       "      <td>12</td>\n",
       "      <td>273</td>\n",
       "      <td>73</td>\n",
       "      <td>15</td>\n",
       "      <td>1552</td>\n",
       "      <td>408</td>\n",
       "    </tr>\n",
       "    <tr>\n",
       "      <td>6</td>\n",
       "      <td>25</td>\n",
       "      <td>257</td>\n",
       "      <td>501</td>\n",
       "      <td>935</td>\n",
       "      <td>372</td>\n",
       "      <td>18</td>\n",
       "      <td>475</td>\n",
       "      <td>2500</td>\n",
       "      <td>439</td>\n",
       "      <td>401</td>\n",
       "      <td>...</td>\n",
       "      <td>317</td>\n",
       "      <td>130</td>\n",
       "      <td>312</td>\n",
       "      <td>33</td>\n",
       "      <td>15</td>\n",
       "      <td>829</td>\n",
       "      <td>162</td>\n",
       "      <td>28</td>\n",
       "      <td>4214</td>\n",
       "      <td>1200</td>\n",
       "    </tr>\n",
       "    <tr>\n",
       "      <td>7</td>\n",
       "      <td>45</td>\n",
       "      <td>1000</td>\n",
       "      <td>1712</td>\n",
       "      <td>3001</td>\n",
       "      <td>1081</td>\n",
       "      <td>41</td>\n",
       "      <td>1392</td>\n",
       "      <td>7561</td>\n",
       "      <td>1437</td>\n",
       "      <td>1297</td>\n",
       "      <td>...</td>\n",
       "      <td>900</td>\n",
       "      <td>337</td>\n",
       "      <td>960</td>\n",
       "      <td>117</td>\n",
       "      <td>46</td>\n",
       "      <td>2354</td>\n",
       "      <td>552</td>\n",
       "      <td>117</td>\n",
       "      <td>13040</td>\n",
       "      <td>3704</td>\n",
       "    </tr>\n",
       "    <tr>\n",
       "      <td>8</td>\n",
       "      <td>159</td>\n",
       "      <td>1518</td>\n",
       "      <td>3093</td>\n",
       "      <td>5936</td>\n",
       "      <td>2115</td>\n",
       "      <td>79</td>\n",
       "      <td>2744</td>\n",
       "      <td>14339</td>\n",
       "      <td>2589</td>\n",
       "      <td>2254</td>\n",
       "      <td>...</td>\n",
       "      <td>1797</td>\n",
       "      <td>652</td>\n",
       "      <td>1772</td>\n",
       "      <td>168</td>\n",
       "      <td>90</td>\n",
       "      <td>4530</td>\n",
       "      <td>926</td>\n",
       "      <td>203</td>\n",
       "      <td>23870</td>\n",
       "      <td>7491</td>\n",
       "    </tr>\n",
       "    <tr>\n",
       "      <td>9</td>\n",
       "      <td>314</td>\n",
       "      <td>2289</td>\n",
       "      <td>4388</td>\n",
       "      <td>9625</td>\n",
       "      <td>2959</td>\n",
       "      <td>139</td>\n",
       "      <td>4096</td>\n",
       "      <td>20475</td>\n",
       "      <td>3880</td>\n",
       "      <td>3249</td>\n",
       "      <td>...</td>\n",
       "      <td>2393</td>\n",
       "      <td>949</td>\n",
       "      <td>2510</td>\n",
       "      <td>266</td>\n",
       "      <td>117</td>\n",
       "      <td>6480</td>\n",
       "      <td>1407</td>\n",
       "      <td>298</td>\n",
       "      <td>34286</td>\n",
       "      <td>11796</td>\n",
       "    </tr>\n",
       "  </tbody>\n",
       "</table>\n",
       "<p>10 rows × 21 columns</p>\n",
       "</div>"
      ],
      "text/plain": [
       "department         alcohol  babies  bakery  beverages  breakfast  bulk  \\\n",
       "order_hour_of_day                                                        \n",
       "0                       17     119     340        865        224     7   \n",
       "1                       11      64     188        465        128     7   \n",
       "2                       11      44     105        235         61     1   \n",
       "3                       11      36      89        219         54     3   \n",
       "4                        8      48     113        258         69     1   \n",
       "5                        7      73     157        365        111     2   \n",
       "6                       25     257     501        935        372    18   \n",
       "7                       45    1000    1712       3001       1081    41   \n",
       "8                      159    1518    3093       5936       2115    79   \n",
       "9                      314    2289    4388       9625       2959   139   \n",
       "\n",
       "department         canned goods  dairy eggs  deli  dry goods pasta  ...  \\\n",
       "order_hour_of_day                                                   ...   \n",
       "0                           378        1641   328              287  ...   \n",
       "1                           183         956   176              161  ...   \n",
       "2                           116         456    84               89  ...   \n",
       "3                            94         393    73               85  ...   \n",
       "4                           147         489   124              100  ...   \n",
       "5                           195         803   170              134  ...   \n",
       "6                           475        2500   439              401  ...   \n",
       "7                          1392        7561  1437             1297  ...   \n",
       "8                          2744       14339  2589             2254  ...   \n",
       "9                          4096       20475  3880             3249  ...   \n",
       "\n",
       "department         household  international  meat seafood  missing  other  \\\n",
       "order_hour_of_day                                                           \n",
       "0                        229             75           214       21      7   \n",
       "1                        106             54            92       11      5   \n",
       "2                         80             26            72       13      2   \n",
       "3                         51             26            60        7      3   \n",
       "4                         79             39            79        4      4   \n",
       "5                        147             40           112       16     12   \n",
       "6                        317            130           312       33     15   \n",
       "7                        900            337           960      117     46   \n",
       "8                       1797            652          1772      168     90   \n",
       "9                       2393            949          2510      266    117   \n",
       "\n",
       "department         pantry  personal care  pets  produce  snacks  \n",
       "order_hour_of_day                                                \n",
       "0                     705            147    57     3149     944  \n",
       "1                     368            106    43     1671     548  \n",
       "2                     219             43     8      880     240  \n",
       "3                     141             49    25      702     233  \n",
       "4                     178             41    24      879     249  \n",
       "5                     273             73    15     1552     408  \n",
       "6                     829            162    28     4214    1200  \n",
       "7                    2354            552   117    13040    3704  \n",
       "8                    4530            926   203    23870    7491  \n",
       "9                    6480           1407   298    34286   11796  \n",
       "\n",
       "[10 rows x 21 columns]"
      ]
     },
     "execution_count": 69,
     "metadata": {},
     "output_type": "execute_result"
    }
   ],
   "source": [
    "time_dep = pd.crosstab(fdata['order_hour_of_day'] ,fdata['department'])\n",
    "time_dep.head(10)"
   ]
  },
  {
   "cell_type": "code",
   "execution_count": 70,
   "metadata": {},
   "outputs": [
    {
     "data": {
      "text/plain": [
       "produce       440385\n",
       "dairy eggs    251811\n",
       "snacks        140271\n",
       "beverages     113859\n",
       "frozen        107880\n",
       "pantry         89667\n",
       "bakery         55596\n",
       "Name: department, dtype: int64"
      ]
     },
     "execution_count": 70,
     "metadata": {},
     "output_type": "execute_result"
    }
   ],
   "source": [
    "fdata['department'].value_counts().head(7)"
   ]
  },
  {
   "cell_type": "code",
   "execution_count": 71,
   "metadata": {},
   "outputs": [
    {
     "data": {
      "text/plain": [
       "personal care    18998\n",
       "international    13423\n",
       "alcohol           4707\n",
       "pets              4609\n",
       "missing           3438\n",
       "bulk              1622\n",
       "other             1550\n",
       "Name: department, dtype: int64"
      ]
     },
     "execution_count": 71,
     "metadata": {},
     "output_type": "execute_result"
    }
   ],
   "source": [
    "fdata['department'].value_counts().tail(7)"
   ]
  },
  {
   "cell_type": "code",
   "execution_count": 72,
   "metadata": {},
   "outputs": [
    {
     "data": {
      "text/plain": [
       "(24, 21)"
      ]
     },
     "execution_count": 72,
     "metadata": {},
     "output_type": "execute_result"
    }
   ],
   "source": [
    "time_dep.shape"
   ]
  },
  {
   "cell_type": "code",
   "execution_count": 73,
   "metadata": {},
   "outputs": [],
   "source": [
    "#for col in time_dep:\n",
    "    #print(col)\n",
    "    #print(time_dep[col].unique())"
   ]
  },
  {
   "cell_type": "code",
   "execution_count": 74,
   "metadata": {},
   "outputs": [],
   "source": [
    "from datetime import timedelta"
   ]
  },
  {
   "cell_type": "code",
   "execution_count": 75,
   "metadata": {},
   "outputs": [],
   "source": [
    "#time_dep['produce'] = time_dep.produce.apply(lambda x: int(x))"
   ]
  },
  {
   "cell_type": "code",
   "execution_count": 80,
   "metadata": {},
   "outputs": [
    {
     "data": {
      "text/plain": [
       "<matplotlib.axes._subplots.AxesSubplot at 0x1a29c6da90>"
      ]
     },
     "execution_count": 80,
     "metadata": {},
     "output_type": "execute_result"
    },
    {
     "data": {
      "image/png": "[encoded data removed]",
      "text/plain": [
       "<Figure size 432x288 with 1 Axes>"
      ]
     },
     "metadata": {
      "needs_background": "light"
     },
     "output_type": "display_data"
    }
   ],
   "source": [
    "time_dep.sort_index().plot()"
   ]
  },
  {
   "cell_type": "code",
   "execution_count": 77,
   "metadata": {},
   "outputs": [],
   "source": [
    "time_dep.sort_values(by='produce', ascending=True, inplace=True)"
   ]
  },
  {
   "cell_type": "code",
   "execution_count": 78,
   "metadata": {},
   "outputs": [
    {
     "data": {
      "text/html": [
       "<div>\n",
       "<style scoped>\n",
       "    .dataframe tbody tr th:only-of-type {\n",
       "        vertical-align: middle;\n",
       "    }\n",
       "\n",
       "    .dataframe tbody tr th {\n",
       "        vertical-align: top;\n",
       "    }\n",
       "\n",
       "    .dataframe thead th {\n",
       "        text-align: right;\n",
       "    }\n",
       "</style>\n",
       "<table border=\"1\" class=\"dataframe\">\n",
       "  <thead>\n",
       "    <tr style=\"text-align: right;\">\n",
       "      <th>department</th>\n",
       "      <th>alcohol</th>\n",
       "      <th>babies</th>\n",
       "      <th>bakery</th>\n",
       "      <th>beverages</th>\n",
       "      <th>breakfast</th>\n",
       "      <th>bulk</th>\n",
       "      <th>canned goods</th>\n",
       "      <th>dairy eggs</th>\n",
       "      <th>deli</th>\n",
       "      <th>dry goods pasta</th>\n",
       "      <th>...</th>\n",
       "      <th>household</th>\n",
       "      <th>international</th>\n",
       "      <th>meat seafood</th>\n",
       "      <th>missing</th>\n",
       "      <th>other</th>\n",
       "      <th>pantry</th>\n",
       "      <th>personal care</th>\n",
       "      <th>pets</th>\n",
       "      <th>produce</th>\n",
       "      <th>snacks</th>\n",
       "    </tr>\n",
       "    <tr>\n",
       "      <th>order_hour_of_day</th>\n",
       "      <th></th>\n",
       "      <th></th>\n",
       "      <th></th>\n",
       "      <th></th>\n",
       "      <th></th>\n",
       "      <th></th>\n",
       "      <th></th>\n",
       "      <th></th>\n",
       "      <th></th>\n",
       "      <th></th>\n",
       "      <th></th>\n",
       "      <th></th>\n",
       "      <th></th>\n",
       "      <th></th>\n",
       "      <th></th>\n",
       "      <th></th>\n",
       "      <th></th>\n",
       "      <th></th>\n",
       "      <th></th>\n",
       "      <th></th>\n",
       "      <th></th>\n",
       "    </tr>\n",
       "  </thead>\n",
       "  <tbody>\n",
       "    <tr>\n",
       "      <td>3</td>\n",
       "      <td>11</td>\n",
       "      <td>36</td>\n",
       "      <td>89</td>\n",
       "      <td>219</td>\n",
       "      <td>54</td>\n",
       "      <td>3</td>\n",
       "      <td>94</td>\n",
       "      <td>393</td>\n",
       "      <td>73</td>\n",
       "      <td>85</td>\n",
       "      <td>...</td>\n",
       "      <td>51</td>\n",
       "      <td>26</td>\n",
       "      <td>60</td>\n",
       "      <td>7</td>\n",
       "      <td>3</td>\n",
       "      <td>141</td>\n",
       "      <td>49</td>\n",
       "      <td>25</td>\n",
       "      <td>702</td>\n",
       "      <td>233</td>\n",
       "    </tr>\n",
       "    <tr>\n",
       "      <td>4</td>\n",
       "      <td>8</td>\n",
       "      <td>48</td>\n",
       "      <td>113</td>\n",
       "      <td>258</td>\n",
       "      <td>69</td>\n",
       "      <td>1</td>\n",
       "      <td>147</td>\n",
       "      <td>489</td>\n",
       "      <td>124</td>\n",
       "      <td>100</td>\n",
       "      <td>...</td>\n",
       "      <td>79</td>\n",
       "      <td>39</td>\n",
       "      <td>79</td>\n",
       "      <td>4</td>\n",
       "      <td>4</td>\n",
       "      <td>178</td>\n",
       "      <td>41</td>\n",
       "      <td>24</td>\n",
       "      <td>879</td>\n",
       "      <td>249</td>\n",
       "    </tr>\n",
       "    <tr>\n",
       "      <td>2</td>\n",
       "      <td>11</td>\n",
       "      <td>44</td>\n",
       "      <td>105</td>\n",
       "      <td>235</td>\n",
       "      <td>61</td>\n",
       "      <td>1</td>\n",
       "      <td>116</td>\n",
       "      <td>456</td>\n",
       "      <td>84</td>\n",
       "      <td>89</td>\n",
       "      <td>...</td>\n",
       "      <td>80</td>\n",
       "      <td>26</td>\n",
       "      <td>72</td>\n",
       "      <td>13</td>\n",
       "      <td>2</td>\n",
       "      <td>219</td>\n",
       "      <td>43</td>\n",
       "      <td>8</td>\n",
       "      <td>880</td>\n",
       "      <td>240</td>\n",
       "    </tr>\n",
       "    <tr>\n",
       "      <td>5</td>\n",
       "      <td>7</td>\n",
       "      <td>73</td>\n",
       "      <td>157</td>\n",
       "      <td>365</td>\n",
       "      <td>111</td>\n",
       "      <td>2</td>\n",
       "      <td>195</td>\n",
       "      <td>803</td>\n",
       "      <td>170</td>\n",
       "      <td>134</td>\n",
       "      <td>...</td>\n",
       "      <td>147</td>\n",
       "      <td>40</td>\n",
       "      <td>112</td>\n",
       "      <td>16</td>\n",
       "      <td>12</td>\n",
       "      <td>273</td>\n",
       "      <td>73</td>\n",
       "      <td>15</td>\n",
       "      <td>1552</td>\n",
       "      <td>408</td>\n",
       "    </tr>\n",
       "    <tr>\n",
       "      <td>1</td>\n",
       "      <td>11</td>\n",
       "      <td>64</td>\n",
       "      <td>188</td>\n",
       "      <td>465</td>\n",
       "      <td>128</td>\n",
       "      <td>7</td>\n",
       "      <td>183</td>\n",
       "      <td>956</td>\n",
       "      <td>176</td>\n",
       "      <td>161</td>\n",
       "      <td>...</td>\n",
       "      <td>106</td>\n",
       "      <td>54</td>\n",
       "      <td>92</td>\n",
       "      <td>11</td>\n",
       "      <td>5</td>\n",
       "      <td>368</td>\n",
       "      <td>106</td>\n",
       "      <td>43</td>\n",
       "      <td>1671</td>\n",
       "      <td>548</td>\n",
       "    </tr>\n",
       "  </tbody>\n",
       "</table>\n",
       "<p>5 rows × 21 columns</p>\n",
       "</div>"
      ],
      "text/plain": [
       "department         alcohol  babies  bakery  beverages  breakfast  bulk  \\\n",
       "order_hour_of_day                                                        \n",
       "3                       11      36      89        219         54     3   \n",
       "4                        8      48     113        258         69     1   \n",
       "2                       11      44     105        235         61     1   \n",
       "5                        7      73     157        365        111     2   \n",
       "1                       11      64     188        465        128     7   \n",
       "\n",
       "department         canned goods  dairy eggs  deli  dry goods pasta  ...  \\\n",
       "order_hour_of_day                                                   ...   \n",
       "3                            94         393    73               85  ...   \n",
       "4                           147         489   124              100  ...   \n",
       "2                           116         456    84               89  ...   \n",
       "5                           195         803   170              134  ...   \n",
       "1                           183         956   176              161  ...   \n",
       "\n",
       "department         household  international  meat seafood  missing  other  \\\n",
       "order_hour_of_day                                                           \n",
       "3                         51             26            60        7      3   \n",
       "4                         79             39            79        4      4   \n",
       "2                         80             26            72       13      2   \n",
       "5                        147             40           112       16     12   \n",
       "1                        106             54            92       11      5   \n",
       "\n",
       "department         pantry  personal care  pets  produce  snacks  \n",
       "order_hour_of_day                                                \n",
       "3                     141             49    25      702     233  \n",
       "4                     178             41    24      879     249  \n",
       "2                     219             43     8      880     240  \n",
       "5                     273             73    15     1552     408  \n",
       "1                     368            106    43     1671     548  \n",
       "\n",
       "[5 rows x 21 columns]"
      ]
     },
     "execution_count": 78,
     "metadata": {},
     "output_type": "execute_result"
    }
   ],
   "source": [
    "time_dep.head()"
   ]
  },
  {
   "cell_type": "code",
   "execution_count": 79,
   "metadata": {},
   "outputs": [],
   "source": [
    "#number_of_items_per_order, order_hour_of_day"
   ]
  },
  {
   "cell_type": "markdown",
   "metadata": {},
   "source": [
    "## Order size analysis"
   ]
  },
  {
   "cell_type": "code",
   "execution_count": 83,
   "metadata": {},
   "outputs": [
    {
     "data": {
      "text/html": [
       "<div>\n",
       "<style scoped>\n",
       "    .dataframe tbody tr th:only-of-type {\n",
       "        vertical-align: middle;\n",
       "    }\n",
       "\n",
       "    .dataframe tbody tr th {\n",
       "        vertical-align: top;\n",
       "    }\n",
       "\n",
       "    .dataframe thead th {\n",
       "        text-align: right;\n",
       "    }\n",
       "</style>\n",
       "<table border=\"1\" class=\"dataframe\">\n",
       "  <thead>\n",
       "    <tr style=\"text-align: right;\">\n",
       "      <th></th>\n",
       "      <th>user_id</th>\n",
       "      <th>order_hour_of_day</th>\n",
       "      <th>order_dow</th>\n",
       "      <th>order_number</th>\n",
       "      <th>order_id</th>\n",
       "      <th>product_id</th>\n",
       "      <th>product_name</th>\n",
       "      <th>reordered</th>\n",
       "      <th>days_since_prior_order</th>\n",
       "      <th>department_id</th>\n",
       "      <th>department</th>\n",
       "      <th>aisle</th>\n",
       "    </tr>\n",
       "  </thead>\n",
       "  <tbody>\n",
       "    <tr>\n",
       "      <td>0</td>\n",
       "      <td>45082</td>\n",
       "      <td>17</td>\n",
       "      <td>6</td>\n",
       "      <td>2</td>\n",
       "      <td>13</td>\n",
       "      <td>17330</td>\n",
       "      <td>Light</td>\n",
       "      <td>0</td>\n",
       "      <td>1.0</td>\n",
       "      <td>5</td>\n",
       "      <td>alcohol</td>\n",
       "      <td>beers coolers</td>\n",
       "    </tr>\n",
       "    <tr>\n",
       "      <td>1</td>\n",
       "      <td>45082</td>\n",
       "      <td>17</td>\n",
       "      <td>6</td>\n",
       "      <td>2</td>\n",
       "      <td>13</td>\n",
       "      <td>35419</td>\n",
       "      <td>Handmade Vodka From Austin, Texas</td>\n",
       "      <td>0</td>\n",
       "      <td>1.0</td>\n",
       "      <td>5</td>\n",
       "      <td>alcohol</td>\n",
       "      <td>spirits</td>\n",
       "    </tr>\n",
       "    <tr>\n",
       "      <td>2</td>\n",
       "      <td>45082</td>\n",
       "      <td>17</td>\n",
       "      <td>6</td>\n",
       "      <td>2</td>\n",
       "      <td>13</td>\n",
       "      <td>27407</td>\n",
       "      <td>Chunky Salsa Medium</td>\n",
       "      <td>0</td>\n",
       "      <td>1.0</td>\n",
       "      <td>13</td>\n",
       "      <td>pantry</td>\n",
       "      <td>preserved dips spreads</td>\n",
       "    </tr>\n",
       "    <tr>\n",
       "      <td>3</td>\n",
       "      <td>45082</td>\n",
       "      <td>17</td>\n",
       "      <td>6</td>\n",
       "      <td>2</td>\n",
       "      <td>13</td>\n",
       "      <td>44635</td>\n",
       "      <td>Salsa Con Queso Medium Dip</td>\n",
       "      <td>0</td>\n",
       "      <td>1.0</td>\n",
       "      <td>13</td>\n",
       "      <td>pantry</td>\n",
       "      <td>preserved dips spreads</td>\n",
       "    </tr>\n",
       "    <tr>\n",
       "      <td>4</td>\n",
       "      <td>45082</td>\n",
       "      <td>17</td>\n",
       "      <td>6</td>\n",
       "      <td>2</td>\n",
       "      <td>13</td>\n",
       "      <td>196</td>\n",
       "      <td>Soda</td>\n",
       "      <td>0</td>\n",
       "      <td>1.0</td>\n",
       "      <td>7</td>\n",
       "      <td>beverages</td>\n",
       "      <td>soft drinks</td>\n",
       "    </tr>\n",
       "  </tbody>\n",
       "</table>\n",
       "</div>"
      ],
      "text/plain": [
       "   user_id  order_hour_of_day  order_dow  order_number  order_id  product_id  \\\n",
       "0    45082                 17          6             2        13       17330   \n",
       "1    45082                 17          6             2        13       35419   \n",
       "2    45082                 17          6             2        13       27407   \n",
       "3    45082                 17          6             2        13       44635   \n",
       "4    45082                 17          6             2        13         196   \n",
       "\n",
       "                        product_name  reordered  days_since_prior_order  \\\n",
       "0                              Light          0                     1.0   \n",
       "1  Handmade Vodka From Austin, Texas          0                     1.0   \n",
       "2                Chunky Salsa Medium          0                     1.0   \n",
       "3         Salsa Con Queso Medium Dip          0                     1.0   \n",
       "4                               Soda          0                     1.0   \n",
       "\n",
       "   department_id department                   aisle  \n",
       "0              5    alcohol           beers coolers  \n",
       "1              5    alcohol                 spirits  \n",
       "2             13     pantry  preserved dips spreads  \n",
       "3             13     pantry  preserved dips spreads  \n",
       "4              7  beverages             soft drinks  "
      ]
     },
     "execution_count": 83,
     "metadata": {},
     "output_type": "execute_result"
    }
   ],
   "source": [
    "fdata.head()"
   ]
  },
  {
   "cell_type": "code",
   "execution_count": 95,
   "metadata": {},
   "outputs": [],
   "source": []
  },
  {
   "cell_type": "code",
   "execution_count": 121,
   "metadata": {},
   "outputs": [],
   "source": [
    "# temp_df contains the data that we will use in modeling.\n",
    "temp_df = fdata.groupby(['order_hour_of_day', 'order_dow', 'order_id']).order_number.count().reset_index()"
   ]
  },
  {
   "cell_type": "code",
   "execution_count": 122,
   "metadata": {},
   "outputs": [
    {
     "data": {
      "text/plain": [
       "1     41986\n",
       "2     12599\n",
       "3      4761\n",
       "4      1930\n",
       "5       835\n",
       "6       363\n",
       "7       170\n",
       "8        61\n",
       "9        36\n",
       "10       13\n",
       "11        7\n",
       "13        2\n",
       "12        2\n",
       "Name: user_id, dtype: int64"
      ]
     },
     "execution_count": 122,
     "metadata": {},
     "output_type": "execute_result"
    }
   ],
   "source": [
    "# we want to know whether user_id can be added to the X dataframe to improve prediction. However, the user_id can only\n",
    "# be added if the user has ordered more than once in the dataset. The following lines count the number of users who\n",
    "# have ordered N times. For example, the first row is the number of poeple who have ordered once, the second row is\n",
    "# the number of people who have ordered 2 times, etc.\n",
    "order_user_df = fdata.groupby(['order_id','user_id']).order_number.count().reset_index()\n",
    "order_user_df.drop(\n",
    "    'order_id', axis=1).user_id.value_counts().value_counts()"
   ]
  },
  {
   "cell_type": "code",
   "execution_count": 118,
   "metadata": {},
   "outputs": [],
   "source": [
    "# we see that 41,986 users have only ordered once, and can't be used in a model that includes user_id as a feature.\n",
    "# However, we're going to stll create the feature, and drop those user_ids from it when using a model that contains\n",
    "# user_id as a feature."
   ]
  },
  {
   "cell_type": "code",
   "execution_count": 126,
   "metadata": {},
   "outputs": [],
   "source": [
    "# we are going to merge the order_user_df with temp_df, and then we will drop those order_id rows where the\n",
    "# corresponding user_id only has one order\n",
    "temp_df_with_userid = temp_df.merge(order_user_df[['order_id', 'user_id']], on='order_id')"
   ]
  },
  {
   "cell_type": "code",
   "execution_count": 144,
   "metadata": {},
   "outputs": [],
   "source": [
    "user_order_count = temp_df_with_userid.user_id.value_counts()\n",
    "users_ordering_once = set(user_order_count[user_order_count == 1].index)\n",
    "temp_df_with_userid = temp_df_with_userid[~temp_df_with_userid.user_id.isin(users_ordering_once)].reset_index(drop=True)"
   ]
  },
  {
   "cell_type": "code",
   "execution_count": 145,
   "metadata": {},
   "outputs": [
    {
     "data": {
      "text/html": [
       "<div>\n",
       "<style scoped>\n",
       "    .dataframe tbody tr th:only-of-type {\n",
       "        vertical-align: middle;\n",
       "    }\n",
       "\n",
       "    .dataframe tbody tr th {\n",
       "        vertical-align: top;\n",
       "    }\n",
       "\n",
       "    .dataframe thead th {\n",
       "        text-align: right;\n",
       "    }\n",
       "</style>\n",
       "<table border=\"1\" class=\"dataframe\">\n",
       "  <thead>\n",
       "    <tr style=\"text-align: right;\">\n",
       "      <th></th>\n",
       "      <th>order_hour_of_day</th>\n",
       "      <th>order_dow</th>\n",
       "      <th>order_id</th>\n",
       "      <th>order_number</th>\n",
       "      <th>user_id</th>\n",
       "    </tr>\n",
       "  </thead>\n",
       "  <tbody>\n",
       "    <tr>\n",
       "      <td>0</td>\n",
       "      <td>0</td>\n",
       "      <td>0</td>\n",
       "      <td>71735</td>\n",
       "      <td>18</td>\n",
       "      <td>72220</td>\n",
       "    </tr>\n",
       "    <tr>\n",
       "      <td>1</td>\n",
       "      <td>0</td>\n",
       "      <td>0</td>\n",
       "      <td>152561</td>\n",
       "      <td>24</td>\n",
       "      <td>132305</td>\n",
       "    </tr>\n",
       "    <tr>\n",
       "      <td>2</td>\n",
       "      <td>0</td>\n",
       "      <td>0</td>\n",
       "      <td>183636</td>\n",
       "      <td>17</td>\n",
       "      <td>107393</td>\n",
       "    </tr>\n",
       "    <tr>\n",
       "      <td>3</td>\n",
       "      <td>0</td>\n",
       "      <td>0</td>\n",
       "      <td>210244</td>\n",
       "      <td>6</td>\n",
       "      <td>138485</td>\n",
       "    </tr>\n",
       "    <tr>\n",
       "      <td>4</td>\n",
       "      <td>0</td>\n",
       "      <td>0</td>\n",
       "      <td>214833</td>\n",
       "      <td>12</td>\n",
       "      <td>80853</td>\n",
       "    </tr>\n",
       "    <tr>\n",
       "      <td>...</td>\n",
       "      <td>...</td>\n",
       "      <td>...</td>\n",
       "      <td>...</td>\n",
       "      <td>...</td>\n",
       "      <td>...</td>\n",
       "    </tr>\n",
       "    <tr>\n",
       "      <td>55808</td>\n",
       "      <td>23</td>\n",
       "      <td>6</td>\n",
       "      <td>3364129</td>\n",
       "      <td>38</td>\n",
       "      <td>61895</td>\n",
       "    </tr>\n",
       "    <tr>\n",
       "      <td>55809</td>\n",
       "      <td>23</td>\n",
       "      <td>6</td>\n",
       "      <td>3407955</td>\n",
       "      <td>24</td>\n",
       "      <td>129282</td>\n",
       "    </tr>\n",
       "    <tr>\n",
       "      <td>55810</td>\n",
       "      <td>23</td>\n",
       "      <td>6</td>\n",
       "      <td>3416251</td>\n",
       "      <td>39</td>\n",
       "      <td>37592</td>\n",
       "    </tr>\n",
       "    <tr>\n",
       "      <td>55811</td>\n",
       "      <td>23</td>\n",
       "      <td>6</td>\n",
       "      <td>3418243</td>\n",
       "      <td>20</td>\n",
       "      <td>196596</td>\n",
       "    </tr>\n",
       "    <tr>\n",
       "      <td>55812</td>\n",
       "      <td>23</td>\n",
       "      <td>6</td>\n",
       "      <td>3419335</td>\n",
       "      <td>26</td>\n",
       "      <td>174536</td>\n",
       "    </tr>\n",
       "  </tbody>\n",
       "</table>\n",
       "<p>55813 rows × 5 columns</p>\n",
       "</div>"
      ],
      "text/plain": [
       "       order_hour_of_day  order_dow  order_id  order_number  user_id\n",
       "0                      0          0     71735            18    72220\n",
       "1                      0          0    152561            24   132305\n",
       "2                      0          0    183636            17   107393\n",
       "3                      0          0    210244             6   138485\n",
       "4                      0          0    214833            12    80853\n",
       "...                  ...        ...       ...           ...      ...\n",
       "55808                 23          6   3364129            38    61895\n",
       "55809                 23          6   3407955            24   129282\n",
       "55810                 23          6   3416251            39    37592\n",
       "55811                 23          6   3418243            20   196596\n",
       "55812                 23          6   3419335            26   174536\n",
       "\n",
       "[55813 rows x 5 columns]"
      ]
     },
     "execution_count": 145,
     "metadata": {},
     "output_type": "execute_result"
    }
   ],
   "source": [
    "temp_df_with_userid"
   ]
  },
  {
   "cell_type": "code",
   "execution_count": 100,
   "metadata": {},
   "outputs": [
    {
     "data": {
      "text/plain": [
       "<matplotlib.axes._subplots.AxesSubplot at 0x1a44f49e90>"
      ]
     },
     "execution_count": 100,
     "metadata": {},
     "output_type": "execute_result"
    },
    {
     "data": {
      "image/png": "[encoded data removed]",
      "text/plain": [
       "<Figure size 432x288 with 1 Axes>"
      ]
     },
     "metadata": {
      "needs_background": "light"
     },
     "output_type": "display_data"
    }
   ],
   "source": [
    "# there doesn't seem to be a linear relationship between order_hour_of_day and order_size. So, we will use a\n",
    "# non-linear model.\n",
    "sns.boxplot(x='order_hour_of_day', y='order_number', data=temp_df)"
   ]
  },
  {
   "cell_type": "code",
   "execution_count": 218,
   "metadata": {},
   "outputs": [],
   "source": [
    "import numpy as np\n",
    "from sklearn.tree import DecisionTreeRegressor\n",
    "from sklearn.linear_model import LinearRegression\n",
    "from sklearn.model_selection import train_test_split\n",
    "from sklearn import model_selection\n",
    "from sklearn import metrics\n",
    "\n",
    "#lr = LinearRegression()\n",
    "model = DecisionTreeRegressor()"
   ]
  },
  {
   "cell_type": "code",
   "execution_count": 223,
   "metadata": {},
   "outputs": [
    {
     "data": {
      "text/plain": [
       "0.6211029788403895"
      ]
     },
     "execution_count": 223,
     "metadata": {},
     "output_type": "execute_result"
    }
   ],
   "source": [
    "feature_cols=['order_hour_of_day', 'order_dow', 'user_id']\n",
    "X=temp_df_with_userid[feature_cols]\n",
    "y=temp_df_with_userid['order_number']\n",
    "\n",
    "X_train, X_test, y_train, y_test = train_test_split(X, y, test_size=0.2, random_state=1)\n",
    "\n",
    "\n",
    "\n",
    "model.fit(X_train,y_train)\n",
    "\n",
    "y_pred=model.predict(X_test)\n",
    "model.score(X, y)\n",
    "\n",
    "\n",
    "\n"
   ]
  },
  {
   "cell_type": "code",
   "execution_count": 213,
   "metadata": {},
   "outputs": [],
   "source": [
    "\n",
    "#def train_test(x,y):\n",
    "#X = temp_df_with_userid['order_hour_of_day', 'order_dow', 'user_id']\n",
    "#y = temp_df_with_userid['order_number']\n",
    "    \n",
    "    \n",
    "#X_train, X_test, y_train, y_test = train_test_split(X, y, random_state=123)\n",
    "    \n",
    "    \n",
    "\n",
    "#model.fit(X, y)\n",
    "#model.score(X, y)"
   ]
  },
  {
   "cell_type": "code",
   "execution_count": 224,
   "metadata": {},
   "outputs": [],
   "source": [
    "#X = temp_df_with_userid[['order_hour_of_day', 'order_dow', 'user_id']]\n",
    "#y = temp_df_with_userid['order_number']\n",
    "#model.fit(X, y)\n",
    "#model.score(X, y)"
   ]
  },
  {
   "cell_type": "code",
   "execution_count": null,
   "metadata": {},
   "outputs": [],
   "source": []
  },
  {
   "cell_type": "code",
   "execution_count": null,
   "metadata": {},
   "outputs": [],
   "source": []
  },
  {
   "cell_type": "code",
   "execution_count": null,
   "metadata": {},
   "outputs": [],
   "source": []
  }
 ],
 "metadata": {
  "kernelspec": {
   "display_name": "Python 3",
   "language": "python",
   "name": "python3"
  },
  "language_info": {
   "codemirror_mode": {
    "name": "ipython",
    "version": 3
   },
   "file_extension": ".py",
   "mimetype": "text/x-python",
   "name": "python",
   "nbconvert_exporter": "python",
   "pygments_lexer": "ipython3",
   "version": "3.7.3"
  }
 },
 "nbformat": 4,
 "nbformat_minor": 2
}
